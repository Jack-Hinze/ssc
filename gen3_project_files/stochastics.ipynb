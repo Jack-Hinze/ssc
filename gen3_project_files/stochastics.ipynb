{
 "metadata": {
  "language_info": {
   "codemirror_mode": {
    "name": "ipython",
    "version": 3
   },
   "file_extension": ".py",
   "mimetype": "text/x-python",
   "name": "python",
   "nbconvert_exporter": "python",
   "pygments_lexer": "ipython3",
   "version": "3.8.3-final"
  },
  "orig_nbformat": 2,
  "kernelspec": {
   "name": "python3",
   "display_name": "Python 3",
   "language": "python"
  }
 },
 "nbformat": 4,
 "nbformat_minor": 2,
 "cells": [
  {
   "cell_type": "code",
   "execution_count": null,
   "metadata": {},
   "outputs": [],
   "source": [
    "import pandas as pd\n",
    "import scipy.stats as st\n",
    "import matplotlib.pyplot as plt"
   ]
  },
  {
   "cell_type": "code",
   "execution_count": null,
   "metadata": {},
   "outputs": [],
   "source": [
    "df = pd.read_csv('uncertanty-results.csv')"
   ]
  },
  {
   "cell_type": "code",
   "execution_count": null,
   "metadata": {},
   "outputs": [],
   "source": [
    "n = 'LCOE (real)'\n",
    "df = df[df[n] < df[n].quantile(q=0.999)]\n",
    "met = df[n]"
   ]
  },
  {
   "cell_type": "code",
   "execution_count": null,
   "metadata": {},
   "outputs": [],
   "source": [
    "mean_int = st.norm.interval(alpha=0.9, loc=met.mean(), scale=st.sem(met.values))\n",
    "mean_int, (mean_int[1]-mean_int[0])/2"
   ]
  },
  {
   "cell_type": "code",
   "execution_count": null,
   "metadata": {},
   "outputs": [],
   "source": []
  },
  {
   "cell_type": "code",
   "execution_count": null,
   "metadata": {},
   "outputs": [],
   "source": [
    "Q = met.quantile(q=[0.1, 0.9]).values\n",
    "Q"
   ]
  },
  {
   "cell_type": "code",
   "execution_count": null,
   "metadata": {},
   "outputs": [],
   "source": [
    "met.hist(bins=25)\n",
    "plt.title(\"LCOE (real) sample frequency (N=1000 / B=25)\")\n",
    "plt.xlabel(\"LCOE (real) c/kWh\")\n",
    "plt.grid(False)\n",
    "ymax = 140\n",
    "plt.plot([Q[0], Q[0]],[0,ymax], 'k-')\n",
    "plt.plot([Q[1], Q[1]],[0,ymax], 'k-')\n",
    "# plt.xlim(4,6.5)\n",
    "plt.text(Q[1]*1.01, ymax*.95, \"10/90% CI\")\n",
    "plt.savefig(\"LCOE-hist.png\", dpi=300)"
   ]
  },
  {
   "cell_type": "code",
   "execution_count": null,
   "metadata": {},
   "outputs": [],
   "source": [
    "outs = \\\n",
    "\"\"\"Annual energy\n",
    "Capacity factor\n",
    "LCOE (real)\n",
    "Site improvement\n",
    "Heliostats\n",
    "Tower\n",
    "Receiver\n",
    "Storage\n",
    "Power block\n",
    "Charge HX cost\n",
    "Discharge (hot) HX cost\n",
    "Discharge (cold) HX cost\n",
    "Riser cost\n",
    "Downcomer cost\n",
    "Contingency\n",
    "Net capital cost\n",
    "OM lifetime total\"\"\".split('\\n')\n",
    "\n",
    "\n",
    "for out in outs:\n",
    "    metric = df[out]\n",
    "    qv = metric.quantile(q=[0.1, 0.9]).values\n",
    "    print(\"{:s}\\t{:f}\\t{:f}\\t{:f}\\t{:f}\".format(out, metric.mean(), qv[0], qv[1], metric.std()))\n"
   ]
  },
  {
   "cell_type": "code",
   "execution_count": null,
   "metadata": {},
   "outputs": [],
   "source": [
    "df['LCOE (real)'].describe()"
   ]
  },
  {
   "cell_type": "code",
   "execution_count": null,
   "metadata": {},
   "outputs": [],
   "source": []
  }
 ]
}